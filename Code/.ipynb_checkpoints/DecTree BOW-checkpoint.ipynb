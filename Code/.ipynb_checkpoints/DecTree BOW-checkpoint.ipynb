{
 "cells": [
  {
   "cell_type": "code",
   "execution_count": null,
   "metadata": {},
   "outputs": [],
   "source": [
    "# Import the data set\n",
    "from keras.datasets import imdb\n",
    "import nltk\n",
    "nltk.download('punkt')\n",
    "import numpy as np\n",
    "import pandas as pd\n",
    "from sklearn.tree import DecisionTreeClassifier \n",
    "from sklearn.feature_extraction.text import CountVectorizer\n",
    "nltk.download('stopwords')\n",
    "import pickle\n",
    "from nltk.corpus import stopwords\n",
    "\n",
    "# split the data set into training and testing target-data\n",
    "(training_data, training_targets), (testing_data, testing_targets) = imdb.load_data()\n",
    "\n",
    "# get all the words already tokenized(remember that the words are unique, each having an ID) -> returns a dictionary\n",
    "index = imdb.get_word_index()\n",
    "# reverse key-value pair in dictionary\n",
    "reverse_index = dict([(value, key) for (key, value) in index.items()])\n",
    "\n",
    "\n",
    "# STEP 1: decode all the sentences\n",
    "# extract all the sentences from training data and test data decoded\n",
    "data = np.concatenate((training_data, testing_data), axis=0)\n",
    "targets = np.concatenate((training_targets, testing_targets), axis=0)\n",
    "\n",
    "decoded_sentences = []\n",
    "# extract from training data\n",
    "for x in range(len(data)):\n",
    "    decoded_sentences.append(\" \".join([reverse_index.get(i - 3, \"\") for i in data[x]]))\n"
   ]
  },
  {
   "cell_type": "code",
   "execution_count": null,
   "metadata": {},
   "outputs": [],
   "source": [
    "# pick less data\n",
    "data_bound = 2001\n",
    "experiment_decoded_sentences = decoded_sentences[:data_bound]\n",
    "experiment_targets = targets[:data_bound]"
   ]
  },
  {
   "cell_type": "code",
   "execution_count": null,
   "metadata": {},
   "outputs": [],
   "source": [
    "#vectorize sentences as BOW in X\n",
    "vectorizer = CountVectorizer()\n",
    "X = vectorizer.fit_transform(experiment_decoded_sentences ).toarray()"
   ]
  },
  {
   "cell_type": "code",
   "execution_count": null,
   "metadata": {},
   "outputs": [],
   "source": [
    "# split\n",
    "from sklearn.model_selection import train_test_split\n",
    "X_train, X_test, y_train, y_test = train_test_split(X, experiment_targets, test_size=0.09, random_state=0)\n",
    "\n",
    "tree = DecisionTreeClassifier(criterion = 'entropy').fit(X_train,y_train)#The accuracy is then calculated through the score function offered by sklearn\n",
    "print(\"The prediction accuracy is: \",tree.score(X_test,y_test)*100,\"%\")"
   ]
  },
  {
   "cell_type": "code",
   "execution_count": null,
   "metadata": {},
   "outputs": [],
   "source": [
    "from sklearn.metrics import classification_report, confusion_matrix, accuracy_score\n",
    "\n",
    "y_pred = tree.predict(X_test)\n",
    "print(confusion_matrix(y_test,y_pred))\n",
    "print(classification_report(y_test,y_pred))\n",
    "print(accuracy_score(y_test, y_pred))"
   ]
  },
  {
   "cell_type": "code",
   "execution_count": null,
   "metadata": {},
   "outputs": [],
   "source": [
    "# try with k folds\n",
    "from sklearn.model_selection import cross_val_score\n",
    "clf = DecisionTreeClassifier(random_state=0)\n",
    "k_folds = cross_val_score(clf, X, experiment_targets, cv=10)"
   ]
  },
  {
   "cell_type": "code",
   "execution_count": null,
   "metadata": {},
   "outputs": [],
   "source": [
    "# Python program to get average of a list \n",
    "def Average(lst): \n",
    "    return sum(lst) / len(lst) \n",
    "  \n",
    "# Driver Code \n",
    "average = Average(k_folds) \n",
    "  \n",
    "# Printing average of the list \n",
    "print(\"Average of the list =\", round(average, 2) * 100 , \"%\")"
   ]
  },
  {
   "cell_type": "code",
   "execution_count": null,
   "metadata": {},
   "outputs": [],
   "source": [
    "import seaborn as sns\n",
    "import matplotlib.pyplot as plt\n",
    "sns.distplot(k_folds)\n",
    "plt.title('Average score: {}'.format(np.mean(k_folds)))"
   ]
  },
  {
   "cell_type": "code",
   "execution_count": null,
   "metadata": {},
   "outputs": [],
   "source": [
    "correct = 0\n",
    "wrong = 0\n",
    "for x in experiment_targets:\n",
    "    if x == 1:\n",
    "        correct +=1\n",
    "    elif x == 0:\n",
    "        wrong +=1\n",
    "        \n",
    "print(correct)\n",
    "print(wrong)"
   ]
  }
 ],
 "metadata": {
  "kernelspec": {
   "display_name": "Python 3",
   "language": "python",
   "name": "python3"
  },
  "language_info": {
   "codemirror_mode": {
    "name": "ipython",
    "version": 3
   },
   "file_extension": ".py",
   "mimetype": "text/x-python",
   "name": "python",
   "nbconvert_exporter": "python",
   "pygments_lexer": "ipython3",
   "version": "3.8.3"
  }
 },
 "nbformat": 4,
 "nbformat_minor": 4
}
