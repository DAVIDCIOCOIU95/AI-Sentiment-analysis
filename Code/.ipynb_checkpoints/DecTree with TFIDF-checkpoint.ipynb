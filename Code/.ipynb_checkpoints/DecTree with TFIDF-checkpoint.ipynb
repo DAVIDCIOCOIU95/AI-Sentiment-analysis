{
 "cells": [
  {
   "cell_type": "code",
   "execution_count": 1,
   "metadata": {},
   "outputs": [],
   "source": [
    "# Import the data set\n",
    "from keras.datasets import imdb\n",
    "import nltk\n",
    "#nltk.download('punkt')\n",
    "import numpy as np\n",
    "import pandas as pd\n",
    "from sklearn.tree import DecisionTreeClassifier \n",
    "from sklearn.feature_extraction.text import CountVectorizer\n",
    "#nltk.download('stopwords')\n",
    "import pickle\n",
    "from nltk.corpus import stopwords\n",
    "\n",
    "# split the data set into training and testing target-data\n",
    "(training_data, training_targets), (testing_data, testing_targets) = imdb.load_data()\n",
    "\n",
    "# get all the words already tokenized(remember that the words are unique, each having an ID) -> returns a dictionary\n",
    "# remember that words are still dirt, many contain numbers and symbols\n",
    "index = imdb.get_word_index()\n",
    "# reverse key-value pair in dictionary\n",
    "reverse_index = dict([(value, key) for (key, value) in index.items()])"
   ]
  },
  {
   "cell_type": "code",
   "execution_count": 2,
   "metadata": {},
   "outputs": [],
   "source": [
    "# STEP 1: decode all the sentences\n",
    "# extract all the sentences from training data and test data decoded\n",
    "data = np.concatenate((training_data, testing_data), axis=0)\n",
    "targets = np.concatenate((training_targets, testing_targets), axis=0)\n",
    "\n",
    "decoded_sentences = []\n",
    "# extract from training data\n",
    "for x in range(len(data)):\n",
    "    decoded_sentences.append(\" \".join([reverse_index.get(i - 3, \"\") for i in data[x]]))"
   ]
  },
  {
   "cell_type": "markdown",
   "metadata": {},
   "source": [
    "## TFIDF"
   ]
  },
  {
   "cell_type": "code",
   "execution_count": 3,
   "metadata": {},
   "outputs": [],
   "source": [
    "# vectorize sentences\n",
    "from sklearn.feature_extraction.text import TfidfVectorizer\n",
    "tfidfconverter = TfidfVectorizer()\n",
    "X = tfidfconverter.fit_transform(decoded_sentences).toarray()"
   ]
  },
  {
   "cell_type": "code",
   "execution_count": 4,
   "metadata": {},
   "outputs": [],
   "source": [
    "# creating data frame and appending labels so to extract a normal distribution\n",
    "labels = pd.DataFrame(targets)\n",
    "dataset_frame = pd.DataFrame(data=X)\n",
    "dataset_frame['Class'] = labels\n",
    "\n",
    "#dataset_frame"
   ]
  },
  {
   "cell_type": "code",
   "execution_count": 7,
   "metadata": {},
   "outputs": [],
   "source": [
    "dataset_frame_reduced = dataset_frame.iloc[:5000,:]"
   ]
  },
  {
   "cell_type": "code",
   "execution_count": null,
   "metadata": {},
   "outputs": [],
   "source": [
    "dataset_frame_reduced"
   ]
  },
  {
   "cell_type": "code",
   "execution_count": 8,
   "metadata": {},
   "outputs": [],
   "source": [
    "# take half positive and half negative\n",
    "bound = 1000\n",
    "reviews_negative = dataset_frame_reduced[dataset_frame_reduced['Class'] == 0].iloc[:bound,:]\n",
    "reviews_positive = dataset_frame_reduced[dataset_frame_reduced['Class'] == 1].iloc[:bound,:]\n",
    "#extract a normal distribution according to an upper bound\n",
    "reviews = reviews_negative.append(reviews_positive, ignore_index = True) \n",
    "#reviews"
   ]
  },
  {
   "cell_type": "code",
   "execution_count": 9,
   "metadata": {},
   "outputs": [
    {
     "name": "stdout",
     "output_type": "stream",
     "text": [
      "The prediction accuracy is:  70.5 %\n"
     ]
    }
   ],
   "source": [
    "from sklearn.model_selection import train_test_split\n",
    "#train\n",
    "X_train, X_test, y_train, y_test = train_test_split(reviews.iloc[:,:-1], reviews.iloc[:,(len(reviews.columns) -1):], test_size=0.1, random_state=0)\n",
    "\n",
    "tree = DecisionTreeClassifier(criterion = 'entropy').fit(X_train,y_train)#The accuracy is then calculated through the score function offered by sklearn\n",
    "print(\"The prediction accuracy is: \",tree.score(X_test,y_test)*100,\"%\")\n"
   ]
  },
  {
   "cell_type": "code",
   "execution_count": null,
   "metadata": {},
   "outputs": [],
   "source": [
    "#y_test.loc[y_test['Class'] == 0]\n",
    "#y_test.loc[y_test['Class'] == 1]"
   ]
  },
  {
   "cell_type": "code",
   "execution_count": null,
   "metadata": {},
   "outputs": [],
   "source": [
    "from sklearn.metrics import classification_report, confusion_matrix, accuracy_score\n",
    "\n",
    "y_pred = tree.predict(X_test)\n",
    "print(confusion_matrix(y_test,y_pred))\n",
    "print(classification_report(y_test,y_pred))\n",
    "print(accuracy_score(y_test, y_pred))"
   ]
  },
  {
   "cell_type": "code",
   "execution_count": null,
   "metadata": {},
   "outputs": [],
   "source": [
    "# try with k folds\n",
    "from sklearn.model_selection import cross_val_score\n",
    "clf = DecisionTreeClassifier(random_state=0)\n",
    "k_folds = cross_val_score(clf, reviews.iloc[:,:-1], reviews.iloc[:,(len(reviews.columns) -1):], cv=10)\n",
    "\n",
    "# Python program to get average of a list \n",
    "def Average(lst): \n",
    "    return sum(lst) / len(lst) \n",
    "  \n",
    "# Driver Code \n",
    "average = Average(k_folds) \n",
    "  \n",
    "# Printing average of the list \n",
    "print(\"Average of the list =\", round(average, 2) * 100 , \"%\")\n",
    "\n",
    "import seaborn as sns\n",
    "import matplotlib.pyplot as plt\n",
    "sns.distplot(k_folds)\n",
    "plt.title('Average score: {}'.format(np.mean(k_folds)))"
   ]
  },
  {
   "cell_type": "code",
   "execution_count": null,
   "metadata": {},
   "outputs": [],
   "source": [
    "# display tree\n",
    "import io\n",
    "from IPython.display import Image  \n",
    "from sklearn.tree import export_graphviz\n",
    "import pydotplus\n",
    "dot_data = io.StringIO()\n",
    "export_graphviz(tree, out_file=dot_data,  \n",
    "                filled=True, rounded=True,\n",
    "                special_characters=True)\n",
    "graph = pydotplus.graph_from_dot_data(dot_data.getvalue())  \n",
    "Image(graph.create_png())"
   ]
  },
  {
   "cell_type": "code",
   "execution_count": null,
   "metadata": {},
   "outputs": [],
   "source": [
    "print(tfidfconverter.get_feature_names()[51247])"
   ]
  }
 ],
 "metadata": {
  "kernelspec": {
   "display_name": "Python 3",
   "language": "python",
   "name": "python3"
  },
  "language_info": {
   "codemirror_mode": {
    "name": "ipython",
    "version": 3
   },
   "file_extension": ".py",
   "mimetype": "text/x-python",
   "name": "python",
   "nbconvert_exporter": "python",
   "pygments_lexer": "ipython3",
   "version": "3.8.3"
  }
 },
 "nbformat": 4,
 "nbformat_minor": 4
}
